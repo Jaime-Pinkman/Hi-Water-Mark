{
 "cells": [
  {
   "cell_type": "code",
   "execution_count": 1,
   "metadata": {
    "collapsed": true
   },
   "outputs": [],
   "source": [
    "from dataset import *\n",
    "from torch.utils.data import DataLoader\n",
    "\n",
    "dataset = WaterDataset('dataset')\n",
    "\n",
    "loader = DataLoader(dataset)"
   ]
  },
  {
   "cell_type": "code",
   "execution_count": 2,
   "outputs": [
    {
     "data": {
      "text/plain": "[tensor([[[[229, 191, 155],\n           [230, 192, 156],\n           [230, 192, 156],\n           ...,\n           [211, 176, 148],\n           [211, 176, 148],\n           [212, 177, 149]],\n \n          [[229, 191, 155],\n           [229, 191, 155],\n           [229, 191, 155],\n           ...,\n           [211, 176, 148],\n           [211, 176, 148],\n           [212, 177, 149]],\n \n          [[228, 190, 154],\n           [228, 190, 154],\n           [229, 191, 155],\n           ...,\n           [211, 176, 148],\n           [211, 176, 148],\n           [211, 176, 148]],\n \n          ...,\n \n          [[ 14,  23,  38],\n           [ 69,  79,  89],\n           [ 76,  88, 104],\n           ...,\n           [104, 150, 183],\n           [106, 156, 179],\n           [112, 141, 157]],\n \n          [[ 19,  28,  43],\n           [ 63,  73,  83],\n           [ 64,  76,  92],\n           ...,\n           [100, 146, 179],\n           [ 98, 148, 171],\n           [103, 132, 148]],\n \n          [[  6,  15,  30],\n           [ 38,  48,  58],\n           [ 37,  49,  65],\n           ...,\n           [ 97, 143, 176],\n           [ 95, 145, 168],\n           [100, 129, 145]]]], dtype=torch.uint8),\n tensor([[[[229, 191, 155],\n           [229, 191, 155],\n           [229, 191, 155],\n           ...,\n           [213, 179, 151],\n           [213, 179, 151],\n           [213, 179, 151]],\n \n          [[229, 191, 155],\n           [229, 191, 155],\n           [229, 191, 155],\n           ...,\n           [211, 177, 149],\n           [211, 177, 149],\n           [211, 177, 149]],\n \n          [[229, 191, 155],\n           [229, 191, 155],\n           [229, 191, 155],\n           ...,\n           [211, 176, 148],\n           [211, 176, 148],\n           [211, 176, 148]],\n \n          ...,\n \n          [[ 17,  20,  39],\n           [ 68,  76,  79],\n           [ 98, 104, 128],\n           ...,\n           [107, 148, 176],\n           [105, 149, 176],\n           [107, 151, 178]],\n \n          [[  6,  18,  30],\n           [ 72,  85,  94],\n           [ 82,  95, 114],\n           ...,\n           [104, 145, 173],\n           [104, 148, 175],\n           [110, 154, 181]],\n \n          [[ 15,  27,  39],\n           [ 33,  46,  55],\n           [ 42,  55,  74],\n           ...,\n           [107, 148, 176],\n           [107, 151, 178],\n           [113, 157, 184]]]], dtype=torch.uint8)]"
     },
     "execution_count": 2,
     "metadata": {},
     "output_type": "execute_result"
    }
   ],
   "source": [
    "\n",
    "next(iter(loader))"
   ],
   "metadata": {
    "collapsed": false,
    "pycharm": {
     "name": "#%%\n"
    }
   }
  }
 ],
 "metadata": {
  "kernelspec": {
   "display_name": "Python 3",
   "language": "python",
   "name": "python3"
  },
  "language_info": {
   "codemirror_mode": {
    "name": "ipython",
    "version": 2
   },
   "file_extension": ".py",
   "mimetype": "text/x-python",
   "name": "python",
   "nbconvert_exporter": "python",
   "pygments_lexer": "ipython2",
   "version": "2.7.6"
  }
 },
 "nbformat": 4,
 "nbformat_minor": 0
}